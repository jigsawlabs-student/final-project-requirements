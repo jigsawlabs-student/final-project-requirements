{
 "cells": [
  {
   "cell_type": "markdown",
   "id": "headed-compensation",
   "metadata": {},
   "source": [
    "### Job Boards"
   ]
  },
  {
   "cell_type": "markdown",
   "id": "283d9211-2e60-4888-afaa-a7ae7a468c28",
   "metadata": {},
   "source": [
    "#### Jobs to Look For\n",
    "\n",
    "* Data Analyst\n",
    "* Analytics Engineer\n",
    "* Data Engineer\n",
    "* Python Engineer\n",
    "* Backend Engineer\n",
    "\n",
    "#### Difficulty of Jobs\n",
    "\n",
    "Less Experience\n",
    "* Intern/Apprentice\n",
    "* Associate\n",
    "* Junior\n",
    "\n",
    "Lots of experience\n",
    "* Sr. Engineer (3 - 5 years)\n",
    "* Principal Engineer (5+)\n",
    "\n",
    "### Top traditional channel\n",
    "* Linkedin\n",
    "* Updated linkedin profile to have photo, relevant data engineering experience\n",
    "* Only apply with pdf version of your resume\n",
    "\n",
    "\n",
    "### Reaching out non-traditional channels\n",
    "```\n",
    "Hey, I graduated from a data engineering bootcamp a few weeks ago -- and have a good background in backend engineering (flask, pytest, python, sql), and data pipelines (airflow, snowflake, dbt) and cloud computing (docker, aws)\n",
    "\n",
    "The position looks really interesting.  Let me know if you think it might be a fit.\n",
    "```"
   ]
  },
  {
   "cell_type": "markdown",
   "id": "bearing-prairie",
   "metadata": {},
   "source": [
    "\tI. Social\n",
    "\t\t○ https://twitter.com/search?q=data%20engineer%20position&src=typed_query\n",
    "\t\t○ https://www.reddit.com/r/dataengineeringjobs/\n",
    "\t\t○ mlops-community.slack.com\n",
    "\t\t○ cfa.slack.com (code for america)\n",
    "\t\t○ getdbt.slack.com - dbt\n",
    "\t\t○ apache-airflow.slack.com - airflow\n",
    "\t\t○ measure.slack.com\n",
    "\t\t○ nycdevs.slack.com\n",
    "\t\t○ techmasters.slack.com\n",
    "\t\t○ pythondev.slack.com\n",
    "\t\t○ datatalks-club.slack.com\n",
    "\t\t○ launch-chat.slack.com\n",
    "\t\t○ betanyc.slack.com\n",
    "\t\t○ nyctech.slack.com\n",
    "\t\t○ bugout-dev.slack.com\n",
    "\tII. Search \n",
    "\t\t○ site: jobs.lever.co data engineering new york\n",
    "\t\t\t\t§ site: jobs.lever.co analytics engineer new york\n",
    "\t\t\t\t\t® Looker, DBT, \n",
    "\t\t\t§ site: greenhouse.io data engineer intern\n",
    "\t\t\t§ Site: apply.workable.com data engineer\n",
    "\t\t\t§ Site: jobs.smartrecruiters.com\n",
    "\t\t○ Search - we're hiring on linkedin\n",
    "\t\t○ https://www.builtinnyc.com/companies?status=hiring_now\n",
    "\t\t○ https://dev.to/\n",
    "\tIII. Job Boards\n",
    "\t\t○ Tier 1\n",
    "\t\t\t§ Nonprofit/interns\n",
    "\t\t\t\t§ https://www.justicetech.download/ - good list\n",
    "\t\t\t\t\t® https://www.internships.com/computer-science/new-york-ny\n",
    "\t\t\t\t\t® https://www.idealist.org/en/jobs?q=python&searchMode=true\n",
    "\t\t\t§ Full\n",
    "\t\t\t\t\t® ctoslackers.com/jobs/\n",
    "\t\t\t\t\t® https://lensa.com/talent/job-opportunities?job-title=Data%20Engineer&location=New%20York,%20NY&company=BNY%20Mellon&flow=expiredJobPositionSnippet\n",
    "\t\t\t\t§ https://ai-jobs.net/  - found 4 - 5 quality jobs (low applicants)\n",
    "\t\t\t\t§ https://jobs.codeforamerica.org/\n",
    "\t\t\t\t§ https://pythonnow.com/search?q=&loc=New+York\n",
    "\t\t\t\t§ https://www.glassdoor.com/Job/jobs.htm?sc.keyword=entry%20level%20python&suggestCount=0&suggestChosen=false&clickSource=searchBox&locId=1132348&locT=C&locName=New%20York%2C%20NY%20(US)\n",
    "\t\t\t§ VCs\n",
    "\t\t\t\t§ https://jobs.usv.com/?l=TmV3JTIwWW9yayUyQyUyME5ZJTJDJTIwVVNB&j=1064993784\n",
    "\t\t○ Tier 2\n",
    "\t\t\t\t§ \n",
    "\t\t\t§ https://www.garysguide.com/jobs?region=newyork&q=python\n",
    "\t\t\t§ https://jobs.workable.com/ - search new york junior python\n",
    "\t\t\t§ https://www.analytictalent.datasciencecentral.com/jobs - ok corporate, perhaps good for contacting hiring manager\n",
    "\t\t\t§ https://icrunchdata.com/jobs/?l=New%20York%2C%20NY%2C%20USA&categories[]=Data%20Engineering pretty senior, but different\n",
    "\t\t\t§ https://stackoverflow.com/jobs?q=python&l=New+York%2C+NY%2C+USA&d=20&u=Miles&c=usd&ms=Junior&mxs=MidLevel\n",
    "\tIV. Aggregates\n",
    "\t\t○ https://docs.google.com/spreadsheets/d/1NZUdKXEZhMqSJuC9mUH9f_4p7X5qQ2XKiyMpc3Zyc6s/edit#gid=0\n",
    "        * https://github.com/tramcar/awesome-job-boards"
   ]
  },
  {
   "cell_type": "markdown",
   "id": "9679956f-a52e-4aa9-ac63-457ab639466e",
   "metadata": {},
   "source": [
    "### Networking\n",
    "* Lunchclub\n",
    "* https://www.intros.club/join/nyc-tech-connect (not just for nyc)\n",
    "* Coffeechats on slack\n",
    "* Meetups (DBT, etc.)\n"
   ]
  },
  {
   "cell_type": "markdown",
   "id": "c28d6bfe-6f0f-40c6-b25f-9777eb84aba7",
   "metadata": {},
   "source": [
    "* Women in tech Communities\n",
    "    * https://elpha.com/ \n",
    "    * women who code "
   ]
  }
 ],
 "metadata": {
  "kernelspec": {
   "display_name": "Python 3 (ipykernel)",
   "language": "python",
   "name": "python3"
  },
  "language_info": {
   "codemirror_mode": {
    "name": "ipython",
    "version": 3
   },
   "file_extension": ".py",
   "mimetype": "text/x-python",
   "name": "python",
   "nbconvert_exporter": "python",
   "pygments_lexer": "ipython3",
   "version": "3.10.6"
  }
 },
 "nbformat": 4,
 "nbformat_minor": 5
}
